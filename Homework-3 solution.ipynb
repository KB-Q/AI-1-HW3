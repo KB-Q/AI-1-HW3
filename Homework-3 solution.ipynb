{
 "cells": [
  {
   "cell_type": "markdown",
   "metadata": {},
   "source": [
    "![](fig/univ.png)\n",
    "\n",
    "# AI-1: ML/AI Basics\n",
    "## Homework 3: Logistic Regression & Classification\n",
    "\n",
    "**AI1 Cohort 1**<br/>\n",
    "**Univ.AI**<br/>\n",
    "**Instructor**: Pavlos Protopapas<br />\n",
    "**Maximum Score**: 125\n",
    "\n",
    "<hr style=\"height:2.4pt\">"
   ]
  },
  {
   "cell_type": "code",
   "execution_count": 20,
   "metadata": {},
   "outputs": [],
   "source": [
    "# Importing the necessary libraries\n",
    "import numpy as np\n",
    "import pandas as pd\n",
    "\n",
    "from sklearn.linear_model import LogisticRegression\n",
    "from sklearn.linear_model import LogisticRegressionCV\n",
    "from sklearn.linear_model import LassoCV\n",
    "\n",
    "from sklearn.model_selection import cross_val_score\n",
    "from sklearn.metrics import accuracy_score\n",
    "from sklearn.model_selection import KFold\n",
    "from sklearn.preprocessing import MinMaxScaler\n",
    "from sklearn.model_selection import train_test_split\n",
    "\n",
    "from sklearn.neighbors import KNeighborsClassifier\n",
    "from sklearn.metrics import accuracy_score\n",
    "from sklearn import metrics\n",
    "from prettytable import PrettyTable\n",
    "import seaborn as sns\n",
    "\n",
    "import matplotlib\n",
    "import matplotlib.pyplot as plt\n",
    "%matplotlib inline\n",
    "from sklearn.metrics import roc_auc_score\n",
    "from sklearn.metrics import roc_curve\n",
    "import seaborn as sns\n",
    "sns.set()\n"
   ]
  },
  {
   "cell_type": "markdown",
   "metadata": {},
   "source": [
    "<hr style=\"height:2pt\">\n",
    "\n",
    "<h2> INSTRUCTIONS </h2>\n",
    "\n",
    "\n",
    "- This homework is a jupyter notebook. Download and work on it in your local machine.\n",
    "\n",
    "- This homework should be submitted in pairs.\n",
    "\n",
    "- Ensure you and your partner together have submitted the homework only once. Multiple submissions of the same work will be penalised and will cost you 2 points.\n",
    "\n",
    "- Please restart the kernel and run the entire notebook again before you submit.\n",
    "\n",
    "- Running cells out of order is a common pitfall in Jupyter Notebooks. To make sure your code works restart the kernel and run the whole notebook again before you submit. \n",
    "\n",
    "- To submit the homework, either one of you upload the working notebook on edStem and click the submit button on the bottom right corner.\n",
    "\n",
    "- Submit the homework well before the given deadline. Submissions after the deadline will not be graded.\n",
    "\n",
    "- We have tried to include all the libraries you may need to do the assignment in the imports statement at the top of this notebook. We strongly suggest that you use those and not others as we may not be familiar with them.\n",
    "\n",
    "- Comment your code well. This would help the graders in case there is any issue with the notebook while running. It is important to remember that the graders will not troubleshoot your code. \n",
    "\n",
    "- Please use .head() when viewing data. Do not submit a notebook that is **excessively long**. \n",
    "\n",
    "- In questions that require code to answer, such as \"calculate the $R^2$\", do not just output the value from a cell. Write a `print()` function that includes a reference to the calculated value, **not hardcoded**. For example: \n",
    "```\n",
    "print(f'The R^2 is {R:.4f}')\n",
    "```\n",
    "- Your plots should include clear labels for the $x$ and $y$ axes as well as a descriptive title (\"MSE plot\" is not a descriptive title; \"95 % confidence interval of coefficients of polynomial degree 5\" is).\n",
    "\n",
    "<hr style=\"height:2pt\">"
   ]
  },
  {
   "cell_type": "markdown",
   "metadata": {},
   "source": [
    "<h2> Overview </h2> \n",
    "\n",
    "This assignment is the first where you will go through the process of loading a dataset, splitting it in train,validation and test sets, pre-processing it, and finally using it to run models and evaluating your results. \n",
    "\n",
    "We have two different datasets, one with gene data from a cancer study in **Part A** and another with the COMPAS data in **Part B**.\n"
   ]
  },
  {
   "cell_type": "markdown",
   "metadata": {},
   "source": [
    "<div class=\"alert alert-block alert-danger\" style=\"color:black;background-color:#EFF8D0\">\n",
    "<h2 style=\"color:black;background-color:#EFF8D0\"> Part A: Cancer Classification from Gene Expressions [45 points total] </h2>    <br />\n",
    "\n",
    "In this problem, we will build a classification model to distinguish between two related classes of cancer, acute lymphoblastic leukemia (ALL) and acute myeloid leukemia (AML), using gene expression measurements. The dataset is provided in the file `data/cancer_genes.csv`. Each row in this file corresponds to a tumor tissue sample from a patient with one of the two forms of Leukemia. The column `Cancer_type` gives the types of cancer, with **0 indicating the ALL** class and **1 indicating the AML** class. Columns 2-7130 contain expression levels of 7129 genes recorded from each tissue sample. \n",
    "\n",
    "In the following questions, we will use logistic regression to build classification models for this data set. "
   ]
  },
  {
   "cell_type": "markdown",
   "metadata": {},
   "source": [
    "<div class=\"alert alert-block alert-danger\" style=\"color:black;background-color:#EFF8D0\">\n",
    "    \n",
    "**Question 1: Setting up the problem and understanding the dataset [5 points]** \n",
    "\n",
    "To reach the goal of classification of the classes of cancer, start by inspecting the dataset.\n",
    "\n",
    "**1.1** [1pt] Load the dataset and split the data into an approximate 80-20 train-test sets. <br /><br />\n",
    "**1.2** [2pts] Take a peek at your training set: you should notice the severe differences in the measurements from one gene to the next (some are negative, some hover around zero, and some are well into the thousands). To account for these differences in scale and variability, normalize each predictor to vary between 0 and 1. \n",
    "<br />**NOTE: for the entirety of this homework assignment associated with this dataset, you will use these normalized values, not the original, raw values.** <br/><br />\n",
    "**1.3** [2pts] The training set contains more predictors than observations. What problem(s) can this lead to in fitting a classification model to such a dataset? Explain in 3 or fewer sentences. <br /><br />\n"
   ]
  },
  {
   "cell_type": "markdown",
   "metadata": {},
   "source": [
    "## Solutions "
   ]
  },
  {
   "cell_type": "markdown",
   "metadata": {},
   "source": [
    "### 1.1\n",
    "**Load the dataset and split the data into an approximate 80-20 train-test sets.**"
   ]
  },
  {
   "cell_type": "code",
   "execution_count": 56,
   "metadata": {
    "collapsed": true
   },
   "outputs": [
    {
     "name": "stdout",
     "output_type": "stream",
     "text": [
      "     Cancer_type  AFFX-BioB-5_at  AFFX-BioB-M_at  AFFX-BioB-3_at  \\\n",
      "0            0.0     -214.000000     -153.000000      -58.000000   \n",
      "1            0.0     -135.000000     -114.000000      265.000000   \n",
      "2            0.0     -106.000000     -125.000000      -76.000000   \n",
      "3            0.0      -72.000000     -144.000000      238.000000   \n",
      "4            0.0     -413.000000     -260.000000        7.000000   \n",
      "..           ...             ...             ...             ...   \n",
      "747          0.0       88.295371     -230.467187     -116.136493   \n",
      "748          1.0        8.984016      -46.148181     -442.518501   \n",
      "749          1.0     -161.209988     -415.412014     -369.440813   \n",
      "750          0.0      -16.049201      -10.897558      220.215468   \n",
      "751          1.0      -95.444209       13.559080       79.552563   \n",
      "\n",
      "     AFFX-BioC-5_at  AFFX-BioC-3_at  AFFX-BioDn-5_at  AFFX-BioDn-3_at  \\\n",
      "0         88.000000     -295.000000      -558.000000       199.000000   \n",
      "1         12.000000     -419.000000      -585.000000       158.000000   \n",
      "2        168.000000     -230.000000      -284.000000         4.000000   \n",
      "3         55.000000     -399.000000      -551.000000       131.000000   \n",
      "4         -2.000000     -541.000000      -790.000000      -275.000000   \n",
      "..              ...             ...              ...              ...   \n",
      "747      207.242879     -484.563128      -590.703170       114.504500   \n",
      "748      501.567222     -292.708277       300.348831      -344.026057   \n",
      "749       29.138755     -230.383081      -463.415891       205.823761   \n",
      "750       13.404827    -1050.247990      -453.803457      -142.557374   \n",
      "751      424.333537     -283.415969      -785.925684      -175.647008   \n",
      "\n",
      "     AFFX-CreX-5_at  AFFX-CreX-3_at  ...   U48730_at    U58516_at   U73738_at  \\\n",
      "0       -176.000000      252.000000  ...  185.000000   511.000000 -125.000000   \n",
      "1       -253.000000       49.000000  ...  240.000000   835.000000  218.000000   \n",
      "2       -122.000000       70.000000  ...  156.000000   649.000000   57.000000   \n",
      "3       -179.000000      126.000000  ...   30.000000   819.000000 -178.000000   \n",
      "4       -463.000000       70.000000  ...  289.000000   629.000000  -86.000000   \n",
      "..              ...             ...  ...         ...          ...         ...   \n",
      "747     -400.887312      246.318549  ...  164.322884  1290.944939  -42.246179   \n",
      "748       18.483694      372.479503  ...  441.032845    35.113954  -73.132946   \n",
      "749     -287.955881      589.778466  ...  100.403356  -260.606898   96.380625   \n",
      "750     -358.362074     -103.277867  ...  163.674167   885.307206 -225.184736   \n",
      "751      -60.793074      228.756109  ...  228.690990   403.429577  -40.574247   \n",
      "\n",
      "       X06956_at   X16699_at    X83863_at   Z17240_at  L49218_f_at  \\\n",
      "0     389.000000  -37.000000   793.000000  329.000000    36.000000   \n",
      "1     174.000000 -110.000000   627.000000  170.000000   -50.000000   \n",
      "2     504.000000  -26.000000   250.000000  314.000000    14.000000   \n",
      "3     151.000000  -18.000000  1140.000000  482.000000    10.000000   \n",
      "4     302.000000   23.000000  1798.000000  446.000000    59.000000   \n",
      "..           ...         ...          ...         ...          ...   \n",
      "747   -46.961747 -103.215585   890.654921  206.447732    91.360720   \n",
      "748  2088.597217  -69.615934  1238.819577  240.975270   115.381556   \n",
      "749    71.126011   68.509803  2565.003616 -184.969140   -68.396675   \n",
      "750  -126.870084   89.951639  1173.472309  701.095849   -23.988459   \n",
      "751   333.378119    2.082661  2582.822242  153.713325  -126.356721   \n",
      "\n",
      "     M71243_f_at  Z78285_f_at  \n",
      "0     191.000000   -37.000000  \n",
      "1     126.000000   -91.000000  \n",
      "2      56.000000   -25.000000  \n",
      "3     369.000000   -42.000000  \n",
      "4     781.000000    20.000000  \n",
      "..           ...          ...  \n",
      "747  2609.725493   -87.939977  \n",
      "748  1954.721047    20.080609  \n",
      "749  -382.154290    98.265157  \n",
      "750  -576.876282   -50.113867  \n",
      "751   589.010379    62.083047  \n",
      "\n",
      "[752 rows x 7130 columns]\n"
     ]
    }
   ],
   "source": [
    "np.random.seed(10)\n",
    "df = pd.read_csv('cancer_genes.csv', index_col=0)\n",
    "print(df.head())\n",
    "X = df.drop(['Cancer_type'],axis=1)\n",
    "y = df['Cancer_type']\n",
    "X_train , X_test, y_train, y_test = train_test_split(X,y,train_size = 0.8, stratify=y, random_state = 109)"
   ]
  },
  {
   "cell_type": "markdown",
   "metadata": {},
   "source": [
    "### 1.2\n",
    "\n",
    "**Take a peek at your training set: you should notice the severe differences in the measurements from one gene to the next (some are negative, some hover around zero, and some are well into the thousands). To account for these differences in scale and variability, normalize each predictor to vary between 0 and 1.**\n",
    "<br />NOTE: for the entirety of this homework assignment associated with this dataset, you will use these normalized values, not the original, raw values."
   ]
  },
  {
   "cell_type": "code",
   "execution_count": 17,
   "metadata": {},
   "outputs": [
    {
     "name": "stdout",
     "output_type": "stream",
     "text": [
      "(752, 7130)\n",
      "(601, 7129) (151, 7129) (601,) (151,)\n",
      "0.0    0.511968\n",
      "1.0    0.488032\n",
      "Name: Cancer_type, dtype: float64\n"
     ]
    }
   ],
   "source": [
    "print(df.shape)\n",
    "print(X_train.shape, X_test.shape, y_train.shape, y_test.shape)\n",
    "print(df.Cancer_type.value_counts(normalize=True))"
   ]
  },
  {
   "cell_type": "code",
   "execution_count": 18,
   "metadata": {},
   "outputs": [
    {
     "data": {
      "text/html": [
       "<div>\n",
       "<style scoped>\n",
       "    .dataframe tbody tr th:only-of-type {\n",
       "        vertical-align: middle;\n",
       "    }\n",
       "\n",
       "    .dataframe tbody tr th {\n",
       "        vertical-align: top;\n",
       "    }\n",
       "\n",
       "    .dataframe thead th {\n",
       "        text-align: right;\n",
       "    }\n",
       "</style>\n",
       "<table border=\"1\" class=\"dataframe\">\n",
       "  <thead>\n",
       "    <tr style=\"text-align: right;\">\n",
       "      <th></th>\n",
       "      <th>AFFX-BioB-5_at</th>\n",
       "      <th>AFFX-BioB-M_at</th>\n",
       "      <th>AFFX-BioB-3_at</th>\n",
       "      <th>AFFX-BioC-5_at</th>\n",
       "      <th>AFFX-BioC-3_at</th>\n",
       "      <th>AFFX-BioDn-5_at</th>\n",
       "      <th>AFFX-BioDn-3_at</th>\n",
       "      <th>AFFX-CreX-5_at</th>\n",
       "      <th>AFFX-CreX-3_at</th>\n",
       "      <th>AFFX-BioB-5_st</th>\n",
       "      <th>...</th>\n",
       "      <th>U48730_at</th>\n",
       "      <th>U58516_at</th>\n",
       "      <th>U73738_at</th>\n",
       "      <th>X06956_at</th>\n",
       "      <th>X16699_at</th>\n",
       "      <th>X83863_at</th>\n",
       "      <th>Z17240_at</th>\n",
       "      <th>L49218_f_at</th>\n",
       "      <th>M71243_f_at</th>\n",
       "      <th>Z78285_f_at</th>\n",
       "    </tr>\n",
       "  </thead>\n",
       "  <tbody>\n",
       "    <tr>\n",
       "      <th>count</th>\n",
       "      <td>601.000000</td>\n",
       "      <td>601.000000</td>\n",
       "      <td>601.000000</td>\n",
       "      <td>601.000000</td>\n",
       "      <td>601.000000</td>\n",
       "      <td>601.000000</td>\n",
       "      <td>601.000000</td>\n",
       "      <td>601.000000</td>\n",
       "      <td>601.000000</td>\n",
       "      <td>601.000000</td>\n",
       "      <td>...</td>\n",
       "      <td>601.000000</td>\n",
       "      <td>601.000000</td>\n",
       "      <td>601.000000</td>\n",
       "      <td>601.000000</td>\n",
       "      <td>601.000000</td>\n",
       "      <td>601.000000</td>\n",
       "      <td>601.000000</td>\n",
       "      <td>601.000000</td>\n",
       "      <td>601.000000</td>\n",
       "      <td>601.000000</td>\n",
       "    </tr>\n",
       "    <tr>\n",
       "      <th>mean</th>\n",
       "      <td>-115.860969</td>\n",
       "      <td>-160.846155</td>\n",
       "      <td>26.545301</td>\n",
       "      <td>209.733439</td>\n",
       "      <td>-248.992903</td>\n",
       "      <td>-405.422569</td>\n",
       "      <td>-24.135140</td>\n",
       "      <td>-188.491329</td>\n",
       "      <td>74.777098</td>\n",
       "      <td>97.436777</td>\n",
       "      <td>...</td>\n",
       "      <td>161.766492</td>\n",
       "      <td>707.377318</td>\n",
       "      <td>4.198787</td>\n",
       "      <td>421.466477</td>\n",
       "      <td>-50.023954</td>\n",
       "      <td>819.053113</td>\n",
       "      <td>329.803212</td>\n",
       "      <td>8.803791</td>\n",
       "      <td>507.250039</td>\n",
       "      <td>-24.377549</td>\n",
       "    </tr>\n",
       "    <tr>\n",
       "      <th>std</th>\n",
       "      <td>170.571929</td>\n",
       "      <td>188.676919</td>\n",
       "      <td>207.781982</td>\n",
       "      <td>202.987246</td>\n",
       "      <td>207.328054</td>\n",
       "      <td>261.112412</td>\n",
       "      <td>535.143398</td>\n",
       "      <td>163.077167</td>\n",
       "      <td>174.693115</td>\n",
       "      <td>358.897719</td>\n",
       "      <td>...</td>\n",
       "      <td>165.152970</td>\n",
       "      <td>526.644408</td>\n",
       "      <td>152.401188</td>\n",
       "      <td>589.914084</td>\n",
       "      <td>106.864078</td>\n",
       "      <td>814.898058</td>\n",
       "      <td>367.788891</td>\n",
       "      <td>85.397644</td>\n",
       "      <td>939.394188</td>\n",
       "      <td>71.102874</td>\n",
       "    </tr>\n",
       "    <tr>\n",
       "      <th>min</th>\n",
       "      <td>-894.789505</td>\n",
       "      <td>-1095.737090</td>\n",
       "      <td>-645.439001</td>\n",
       "      <td>-425.750627</td>\n",
       "      <td>-1154.285694</td>\n",
       "      <td>-1091.492494</td>\n",
       "      <td>-2066.516448</td>\n",
       "      <td>-728.996262</td>\n",
       "      <td>-770.025847</td>\n",
       "      <td>-1176.663615</td>\n",
       "      <td>...</td>\n",
       "      <td>-501.285884</td>\n",
       "      <td>-1010.430536</td>\n",
       "      <td>-447.077819</td>\n",
       "      <td>-1870.955269</td>\n",
       "      <td>-432.967768</td>\n",
       "      <td>-2151.593119</td>\n",
       "      <td>-651.051441</td>\n",
       "      <td>-255.419724</td>\n",
       "      <td>-2754.665185</td>\n",
       "      <td>-237.864216</td>\n",
       "    </tr>\n",
       "    <tr>\n",
       "      <th>25%</th>\n",
       "      <td>-222.586579</td>\n",
       "      <td>-270.502055</td>\n",
       "      <td>-95.000000</td>\n",
       "      <td>85.327810</td>\n",
       "      <td>-379.048622</td>\n",
       "      <td>-567.547758</td>\n",
       "      <td>-338.435164</td>\n",
       "      <td>-302.872287</td>\n",
       "      <td>-20.739507</td>\n",
       "      <td>-117.000000</td>\n",
       "      <td>...</td>\n",
       "      <td>67.861184</td>\n",
       "      <td>361.596510</td>\n",
       "      <td>-88.660905</td>\n",
       "      <td>88.409441</td>\n",
       "      <td>-105.000000</td>\n",
       "      <td>270.198265</td>\n",
       "      <td>90.825501</td>\n",
       "      <td>-40.391630</td>\n",
       "      <td>-50.785999</td>\n",
       "      <td>-73.000000</td>\n",
       "    </tr>\n",
       "    <tr>\n",
       "      <th>50%</th>\n",
       "      <td>-105.139096</td>\n",
       "      <td>-145.829450</td>\n",
       "      <td>21.183690</td>\n",
       "      <td>207.291048</td>\n",
       "      <td>-231.007621</td>\n",
       "      <td>-433.214742</td>\n",
       "      <td>-39.581881</td>\n",
       "      <td>-175.586059</td>\n",
       "      <td>90.170754</td>\n",
       "      <td>101.975176</td>\n",
       "      <td>...</td>\n",
       "      <td>153.253301</td>\n",
       "      <td>679.935520</td>\n",
       "      <td>9.960900</td>\n",
       "      <td>381.000000</td>\n",
       "      <td>-35.000000</td>\n",
       "      <td>749.281111</td>\n",
       "      <td>296.978609</td>\n",
       "      <td>7.968505</td>\n",
       "      <td>407.942117</td>\n",
       "      <td>-25.403427</td>\n",
       "    </tr>\n",
       "    <tr>\n",
       "      <th>75%</th>\n",
       "      <td>-4.789696</td>\n",
       "      <td>-40.599329</td>\n",
       "      <td>127.821586</td>\n",
       "      <td>331.277808</td>\n",
       "      <td>-116.000000</td>\n",
       "      <td>-252.587379</td>\n",
       "      <td>325.000000</td>\n",
       "      <td>-74.379003</td>\n",
       "      <td>190.551199</td>\n",
       "      <td>288.503617</td>\n",
       "      <td>...</td>\n",
       "      <td>263.112797</td>\n",
       "      <td>1076.075567</td>\n",
       "      <td>96.051876</td>\n",
       "      <td>720.339588</td>\n",
       "      <td>19.775025</td>\n",
       "      <td>1286.343005</td>\n",
       "      <td>521.096719</td>\n",
       "      <td>62.794411</td>\n",
       "      <td>1092.430279</td>\n",
       "      <td>19.740635</td>\n",
       "    </tr>\n",
       "    <tr>\n",
       "      <th>max</th>\n",
       "      <td>516.618491</td>\n",
       "      <td>384.626762</td>\n",
       "      <td>748.233182</td>\n",
       "      <td>1022.560525</td>\n",
       "      <td>308.876677</td>\n",
       "      <td>607.737258</td>\n",
       "      <td>1385.881293</td>\n",
       "      <td>263.634029</td>\n",
       "      <td>589.778466</td>\n",
       "      <td>1355.537180</td>\n",
       "      <td>...</td>\n",
       "      <td>686.321597</td>\n",
       "      <td>2522.188808</td>\n",
       "      <td>481.820516</td>\n",
       "      <td>3982.980299</td>\n",
       "      <td>215.047697</td>\n",
       "      <td>3743.264860</td>\n",
       "      <td>1996.244626</td>\n",
       "      <td>274.575647</td>\n",
       "      <td>3315.374276</td>\n",
       "      <td>224.773440</td>\n",
       "    </tr>\n",
       "  </tbody>\n",
       "</table>\n",
       "<p>8 rows × 7129 columns</p>\n",
       "</div>"
      ],
      "text/plain": [
       "       AFFX-BioB-5_at  AFFX-BioB-M_at  AFFX-BioB-3_at  AFFX-BioC-5_at  \\\n",
       "count      601.000000      601.000000      601.000000      601.000000   \n",
       "mean      -115.860969     -160.846155       26.545301      209.733439   \n",
       "std        170.571929      188.676919      207.781982      202.987246   \n",
       "min       -894.789505    -1095.737090     -645.439001     -425.750627   \n",
       "25%       -222.586579     -270.502055      -95.000000       85.327810   \n",
       "50%       -105.139096     -145.829450       21.183690      207.291048   \n",
       "75%         -4.789696      -40.599329      127.821586      331.277808   \n",
       "max        516.618491      384.626762      748.233182     1022.560525   \n",
       "\n",
       "       AFFX-BioC-3_at  AFFX-BioDn-5_at  AFFX-BioDn-3_at  AFFX-CreX-5_at  \\\n",
       "count      601.000000       601.000000       601.000000      601.000000   \n",
       "mean      -248.992903      -405.422569       -24.135140     -188.491329   \n",
       "std        207.328054       261.112412       535.143398      163.077167   \n",
       "min      -1154.285694     -1091.492494     -2066.516448     -728.996262   \n",
       "25%       -379.048622      -567.547758      -338.435164     -302.872287   \n",
       "50%       -231.007621      -433.214742       -39.581881     -175.586059   \n",
       "75%       -116.000000      -252.587379       325.000000      -74.379003   \n",
       "max        308.876677       607.737258      1385.881293      263.634029   \n",
       "\n",
       "       AFFX-CreX-3_at  AFFX-BioB-5_st  ...   U48730_at    U58516_at  \\\n",
       "count      601.000000      601.000000  ...  601.000000   601.000000   \n",
       "mean        74.777098       97.436777  ...  161.766492   707.377318   \n",
       "std        174.693115      358.897719  ...  165.152970   526.644408   \n",
       "min       -770.025847    -1176.663615  ... -501.285884 -1010.430536   \n",
       "25%        -20.739507     -117.000000  ...   67.861184   361.596510   \n",
       "50%         90.170754      101.975176  ...  153.253301   679.935520   \n",
       "75%        190.551199      288.503617  ...  263.112797  1076.075567   \n",
       "max        589.778466     1355.537180  ...  686.321597  2522.188808   \n",
       "\n",
       "        U73738_at    X06956_at   X16699_at    X83863_at    Z17240_at  \\\n",
       "count  601.000000   601.000000  601.000000   601.000000   601.000000   \n",
       "mean     4.198787   421.466477  -50.023954   819.053113   329.803212   \n",
       "std    152.401188   589.914084  106.864078   814.898058   367.788891   \n",
       "min   -447.077819 -1870.955269 -432.967768 -2151.593119  -651.051441   \n",
       "25%    -88.660905    88.409441 -105.000000   270.198265    90.825501   \n",
       "50%      9.960900   381.000000  -35.000000   749.281111   296.978609   \n",
       "75%     96.051876   720.339588   19.775025  1286.343005   521.096719   \n",
       "max    481.820516  3982.980299  215.047697  3743.264860  1996.244626   \n",
       "\n",
       "       L49218_f_at  M71243_f_at  Z78285_f_at  \n",
       "count   601.000000   601.000000   601.000000  \n",
       "mean      8.803791   507.250039   -24.377549  \n",
       "std      85.397644   939.394188    71.102874  \n",
       "min    -255.419724 -2754.665185  -237.864216  \n",
       "25%     -40.391630   -50.785999   -73.000000  \n",
       "50%       7.968505   407.942117   -25.403427  \n",
       "75%      62.794411  1092.430279    19.740635  \n",
       "max     274.575647  3315.374276   224.773440  \n",
       "\n",
       "[8 rows x 7129 columns]"
      ]
     },
     "execution_count": 18,
     "metadata": {},
     "output_type": "execute_result"
    }
   ],
   "source": [
    "X_train.describe()"
   ]
  },
  {
   "cell_type": "code",
   "execution_count": 19,
   "metadata": {},
   "outputs": [],
   "source": [
    "min_vals = X_train.min()\n",
    "max_vals = X_train.max()\n",
    "\n",
    "X_train = (X_train - min_vals)/(max_vals - min_vals)\n",
    "X_test = (X_test - min_vals)/(max_vals - min_vals)"
   ]
  },
  {
   "cell_type": "markdown",
   "metadata": {},
   "source": [
    "### 1.3\n",
    "\n",
    "**The training set contains more predictors than observations. What problem(s) can this lead to in fitting a classification model to such a dataset? Explain in 3 or fewer sentences.**"
   ]
  },
  {
   "cell_type": "markdown",
   "metadata": {},
   "source": [
    "Linear Regression and Logisitic Regression does not work. We need to regularize or reduce dimensions. \n",
    "\n",
    "The training set is improper as it contains many more columns compared to number of samples. If we fit models to the given dataset, they will be highly overfitted. This is called the curse of dimensionality."
   ]
  },
  {
   "cell_type": "markdown",
   "metadata": {},
   "source": [
    "<div class=\"alert alert-block alert-danger\" style=\"color:black;background-color:#EFF8D0\">\n",
    "\n",
    "**Question 2: Determining the best predictors [15 points]** \n",
    "<br /><br />\n",
    " \n",
    "**2.1** [10pts] The aim is to determine which 10 genes individually discriminate between the two cancer classes the best (consider every gene in the dataset). \n",
    " \n",
    "**Hint:** You may use t-testing to make this determination: https://en.wikipedia.org/wiki/Welch%27s_t-test .\n",
    " \n",
    "<br /><br />\n",
    "**2.2** [5pts] Call the predictor that discriminates the best above `best_predictor` and plot two histograms of this predictor -- one using the training set and another using the testing set. Each histogram should clearly distinguish two different `Cancer_type` classes.\n"
   ]
  },
  {
   "cell_type": "markdown",
   "metadata": {},
   "source": [
    "## Solutions "
   ]
  },
  {
   "cell_type": "markdown",
   "metadata": {},
   "source": [
    "### 2.1\n",
    "**The aim is to determine which 10 genes individually discriminate between the two cancer classes the best (consider every gene in the dataset).**\n",
    "\n",
    "**Hint: You may use t-testing to make this determination: https://en.wikipedia.org/wiki/Welch%27s_t-test .**"
   ]
  },
  {
   "cell_type": "code",
   "execution_count": 20,
   "metadata": {},
   "outputs": [
    {
     "name": "stdout",
     "output_type": "stream",
     "text": [
      "The best predictor to discriminate between the 2 cancer classes is M31523_at\n",
      "\n",
      "The top 10 best predictors are\t['M31523_at', 'X95735_at', 'M84526_at', 'X61587_at', 'U50136_rna1_at', 'X17042_at', 'U29175_at', 'Y08612_at', 'Z11793_at', 'X76648_at']\n"
     ]
    }
   ],
   "source": [
    "# your code here \n",
    "s1 = X_train[y_train==0]\n",
    "s2 = X_train[y_train==1]\n",
    "m1 = s1.mean()\n",
    "m2 = s2.mean()\n",
    "std1 = s1.std()\n",
    "std2 = s2.std()\n",
    "n1 = len(s1)\n",
    "n2 = len(s2)\n",
    "\n",
    "t_stats = np.abs(m1-m2)/np.sqrt((std1**2/n1) + (std2**2/n2))\n",
    "\n",
    "t_stats = t_stats[np.argsort(-1*np.abs(t_stats))]\n",
    "best_pred = t_stats.index[0]\n",
    "top10 = t_stats.index[:10]\n",
    "print(\"The best predictor to discriminate between the 2 cancer classes is\",best_pred, end=\"\\n\\n\")\n",
    "print(\"The top 10 best predictors are\", list(top10), sep = \"\\t\")"
   ]
  },
  {
   "cell_type": "markdown",
   "metadata": {},
   "source": [
    "### 2.2\n",
    "**Call the predictor that discriminates the best above best_predictor and plot two histograms of this predictor -- one using the training set and another using the testing set. Each histogram should clearly distinguish two different Cancer_type classes.**"
   ]
  },
  {
   "cell_type": "code",
   "execution_count": 21,
   "metadata": {},
   "outputs": [
    {
     "data": {
      "image/png": "[encoded data removed]",
      "text/plain": [
       "<Figure size 864x576 with 2 Axes>"
      ]
     },
     "metadata": {},
     "output_type": "display_data"
    }
   ],
   "source": [
    "plt.figure(figsize=(12,8))\n",
    "plt.subplot(211)\n",
    "plt.hist( X_train[y_train==0][best_pred], alpha = 0.5, bins=30, label='Class 0')\n",
    "plt.hist( X_train[y_train==1][best_pred], alpha = 0.5, bins=30, label='Class 1')\n",
    "plt.title(best_pred + \" for X_train\")\n",
    "plt.legend()\n",
    "\n",
    "plt.subplot(212)\n",
    "plt.hist( X_test[y_test==0][best_pred], alpha = 0.5,bins=30,label='Class 0')\n",
    "plt.hist( X_test[y_test==1][best_pred], alpha = 0.5,bins=30, label='Class 1')\n",
    "plt.title(best_pred + \"for X_test\")\n",
    "plt.legend();"
   ]
  },
  {
   "cell_type": "markdown",
   "metadata": {},
   "source": [
    "<div class=\"alert alert-block alert-danger\" style=\"color:black;background-color:#EFF8D0\">\n",
    "\n",
    "**Question 3: Predicting the types of cancer based on gene expression [25 points]**\n",
    "<br /><br />\n",
    "\n",
    "**3.1** [10pts] Fit a simple logistic regression model to the training set using the single gene predictor `best_predictor` identified in the previous part to predict cancer type. <br/>\n",
    "**Note:** Remember, you need to set the regularization parameter for sklearn's logistic regression function to be a very large value in order to not regularize (use 'C=100000').\n",
    "<br /><br />\n",
    "\n",
    "**3.2** [5pts] Print and interpret Logistic Regression coefficient and intercept. \n",
    "<br /><br />\n",
    "**3.3** [10pts] Create 2 plots (with training and testing data) with the following items displayed on each plot.\n",
    "\n",
    "- the predicted probabilities of the logistic regression model as a function of the best gene predictor. \n",
    "- the true binary response. \n",
    "- a horizontal line at $y=0.5$. "
   ]
  },
  {
   "cell_type": "markdown",
   "metadata": {},
   "source": [
    "## Solutions"
   ]
  },
  {
   "cell_type": "markdown",
   "metadata": {},
   "source": [
    "### 3.1\n",
    "**Fit a simple logistic regression model to the training set using the single gene predictor best_predictor identified in the previous part to predict cancer type.**<br />\n",
    "Note: Remember, you need to set the regularization parameter for sklearn's logistic regression function to be a very large value in order to not regularize (use 'C=100000')."
   ]
  },
  {
   "cell_type": "code",
   "execution_count": 24,
   "metadata": {},
   "outputs": [
    {
     "name": "stdout",
     "output_type": "stream",
     "text": [
      "Train score: 0.7071547420965059 Test score: 0.7086092715231788\n",
      "[[['Logistic Regression train', 0.7071547420965059], ['Logistic Regression test', 0.7086092715231788]]]\n"
     ]
    }
   ],
   "source": [
    "res = []\n",
    "logreg = LogisticRegression(C=100000, solver='lbfgs')\n",
    "logreg.fit(X_train[[best_pred]], y_train) \n",
    "\n",
    "y_train_pred_logreg = logreg.predict(X_train[[best_pred]])\n",
    "y_test_pred_logreg = logreg.predict(X_test[[best_pred]])\n",
    "\n",
    "train_score_logreg = accuracy_score(y_train, y_train_pred_logreg)\n",
    "test_score_logreg = accuracy_score(y_test, y_test_pred_logreg)\n",
    "\n",
    "print(\"Train score:\", train_score_logreg, \"Test score:\", test_score_logreg)\n",
    "\n",
    "res.append([['Logistic Regression train', train_score_logreg], ['Logistic Regression test', test_score_logreg]] )\n",
    "print(res)"
   ]
  },
  {
   "cell_type": "markdown",
   "metadata": {},
   "source": [
    "### 3.2\n",
    "**Print and interpret Logistic Regression coefficient and intercept.**"
   ]
  },
  {
   "cell_type": "code",
   "execution_count": 25,
   "metadata": {},
   "outputs": [
    {
     "data": {
      "text/plain": [
       "(array([4.07730445]), array([[-8.75716206]]), array([[0.46559655]]))"
      ]
     },
     "execution_count": 25,
     "metadata": {},
     "output_type": "execute_result"
    }
   ],
   "source": [
    "logreg.intercept_, logreg.coef_, -logreg.intercept_/logreg.coef_"
   ]
  },
  {
   "cell_type": "markdown",
   "metadata": {},
   "source": [
    "The slope is how steep is the sigmoid function is. Negative slope indicates probability of predicting y = 1 decreases as X gets larger. \n",
    "\n",
    "The intercept offers an indication of how much right or left shifted the curve (inflection point) is by -intercept/slope: the curve is approx 0.4656 to the right in this case."
   ]
  },
  {
   "cell_type": "code",
   "execution_count": 34,
   "metadata": {},
   "outputs": [
    {
     "name": "stdout",
     "output_type": "stream",
     "text": [
      "Intercept: [4.07730445]\n",
      "When M31523_at is 0, log odds are 4.07730 \n",
      "\n",
      "In other words, we predict `cancer_type` 1 with 0.98333 probability \n"
     ]
    }
   ],
   "source": [
    "print(\"Intercept:\",logreg.intercept_)\n",
    "print(\"When %s is 0, log odds are %.5f \"%(best_pred,logreg.intercept_),end=\"\\n\\n\")\n",
    "\n",
    "prob = logreg.predict_proba(np.array([0]).reshape(-1,1))[0,1] #Predictions when best_pred = 0 for class 1\n",
    "print(\"In other words, we predict `cancer_type` 1 with %.5f probability \"%(prob))"
   ]
  },
  {
   "cell_type": "code",
   "execution_count": 36,
   "metadata": {},
   "outputs": [
    {
     "name": "stdout",
     "output_type": "stream",
     "text": [
      "A one-unit increase in coefficient (M31523_at) is associated with an increase in the odds of `cancer_type` by 0.00016\n"
     ]
    }
   ],
   "source": [
    "print(\"A one-unit increase in coefficient (%s) is associated with an increase in the odds of `cancer_type` by %.5f\"%(best_pred,np.exp(logreg.coef_)))\n",
    " "
   ]
  },
  {
   "cell_type": "markdown",
   "metadata": {},
   "source": [
    "### 3.3\n",
    "<b>\n",
    "Create 2 plots (with training and testing data) with the following items displayed on each plot.\n",
    "\n",
    "- the predicted probabilities of the logistic regression model as a function of the best gene predictor.<br />\n",
    "- the true binary response.<br />\n",
    "- a horizontal line at y=0.5.\n",
    "</b>"
   ]
  },
  {
   "cell_type": "code",
   "execution_count": 37,
   "metadata": {},
   "outputs": [
    {
     "data": {
      "image/png": "[encoded data removed]",
      "text/plain": [
       "<Figure size 1152x360 with 2 Axes>"
      ]
     },
     "metadata": {},
     "output_type": "display_data"
    }
   ],
   "source": [
    "y_train_pred_logreg_prob = logreg.predict_proba(X_train[[best_pred]])[:,1]\n",
    "y_test_pred_logreg_prob = logreg.predict_proba(X_test[[best_pred]])[:,1]\n",
    "\n",
    "fig, ax = plt.subplots(1,2, figsize=(16,5))\n",
    "sort_index = np.argsort(X_train[best_pred].values)\n",
    "\n",
    "# plotting true binary response\n",
    "ax[0].scatter(X_train[best_pred].iloc[sort_index].values, y_train.iloc[sort_index].values, color='red', label = 'Train True Response')\n",
    "\n",
    "# plotting logreg prob output\n",
    "ax[0].plot(X_train[best_pred].iloc[sort_index].values, y_train_pred_logreg_prob[sort_index], alpha=0.3,  \\\n",
    "         color='green', label = 'Logistic Regression Predictions Prob')\n",
    "\n",
    "ax[0].axhline(0.5, c='c')\n",
    "ax[0].legend()\n",
    "ax[0].set_title('Train - True response v/s obtained responses')\n",
    "ax[0].set_xlabel('Gene predictor value')\n",
    "ax[0].set_ylabel('Cancer type response');\n",
    "\n",
    "# Test\n",
    "sort_index = np.argsort(X_test[best_pred].values)\n",
    "\n",
    "# plotting true binary response\n",
    "ax[1].scatter(X_test[best_pred].iloc[sort_index].values, y_test.iloc[sort_index].values, color='black', label = 'Test True Response')\n",
    "\n",
    "\n",
    "# plotting logreg prob output\n",
    "ax[1].plot(X_test[best_pred].iloc[sort_index].values, y_test_pred_logreg_prob[sort_index], alpha=0.3,  \\\n",
    "         color='green', label = 'Logistic Regression Predictions Prob')\n",
    "\n",
    "ax[1].axhline(0.5, c='c')\n",
    "ax[1].legend()\n",
    "ax[1].set_title('Test - True response v/s obtained responses')\n",
    "ax[1].set_xlabel('Gene predictor value')\n",
    "ax[1].set_ylabel('Cancer type response');"
   ]
  },
  {
   "cell_type": "markdown",
   "metadata": {},
   "source": [
    "<div class=\"alert alert-block alert-danger\" style=\"color:black;background-color:#EFF8D0\">\n",
    "<h2 style=\"color:black;background-color:#EFF8D0\"> Part B: Racial bias in machine learning systems [60 points total] </h2>    <br />\n",
    "\n",
    "\n",
    "![](https://static.propublica.org/projects/algorithmic-bias/assets/img/generated/opener-b-crop-2400*1350-00796e.jpg)\n",
    "\n",
    "<br /><br />\n",
    "<b> Dataset Description </b><br /><br />\n",
    "The main dataset is the *compas.csv*.\n",
    "The variables are roughly explained in the `compas_datadict.csv` file, and ProPublica's analysis is publically available here: https://github.com/propublica/compas-analysis.\n",
    "\n",
    "The dataset was made publically available by **Northpointe**, an American tech-company that works with law establishment across several states in the US to predict future crimes based on past records of criminals.\n",
    "\n",
    "It has been suspected that the software used by Northpointe, `COMPAS`, is biased against the african american criminals, who end up with `high-risk` tags, despite minor criminal record, whereas `Caucasians` regularly received low-scores despite more significant criminal charges.\n",
    "    \n",
    "After pressure from several news agencies and a public investigation by ProPublica, the company released this dataset with a slice of the factors usually considered in order to assign a score to criminals.\n",
    "<br /><br />\n",
    "The dataset also contains a column `two_year_recid` with a binary response, i.e `1` if the released criminal ended up committing another crime within two years and `0` if the criminal did not commit a crime within a period of two years.\n",
    "    \n",
    "To learn more about this dataset, and the public investigation, you are highly recommended to read ProPublica's article on [Machine Bias](https://www.propublica.org/article/machine-bias-risk-assessments-in-criminal-sentencing)"
   ]
  },
  {
   "cell_type": "markdown",
   "metadata": {},
   "source": [
    "<div class=\"alert alert-block alert-danger\" style=\"color:black;background-color:#EFF8D0\">\n",
    "    \n",
    "**Question 1: Setting up the problem and understanding the data [15 points]**\n",
    "\n",
    "**1.1** [1pt] Split the data into 80% training and 20% validation sets stratified by race.\n",
    "\n",
    "By Stratified we mean that the two sets should have roughly similar distribution of races as the original data. For more information on how to stratify using sklearn, check sklearn documentation here.<br />\n",
    "\n",
    "NOTE: Before splitting you may want to process the categorical predictors first so you don't have to do it separately in train and validation later. \n",
    "<br /><br />\n",
    "**1.2** [4pts] Can you guess why processing the categorical predictors important? What is the risk of processing categorical predictors after splitting into train and validation sets?\n",
    "<br /><br />\n",
    "\n",
    "**1.3** [8pts] Make overlapping distributions (histograms) of the following predictors for two groups, African American & Caucasian.\n",
    "- Age\n",
    "- Priors count\n",
    "- Sex\n",
    "- Length of stay\n",
    "<br /><br />\n",
    "\n",
    "**1.4** [2pts] Among the following variables, which ones show disparity between the two groups? Explain your results in 2-3 sentences.\n",
    "<br /><br />"
   ]
  },
  {
   "cell_type": "markdown",
   "metadata": {},
   "source": [
    "## Solutions"
   ]
  },
  {
   "cell_type": "markdown",
   "metadata": {},
   "source": [
    "### 1.1\n",
    "<b>\n",
    "Split the data into 80% training and 20% validation sets stratified by race.\n",
    "\n",
    "By Stratified we mean that the two sets should have roughly similar distribution of races as the original data. For more information on how to stratify using sklearn, check sklearn documentation here.\n",
    "<br />\n",
    "NOTE: Before splitting you may want to process the categorical predictors first so you don't have to do it separately in train and validation later."
   ]
  },
  {
   "cell_type": "code",
   "execution_count": 4,
   "metadata": {},
   "outputs": [
    {
     "data": {
      "text/html": [
       "<div>\n",
       "<style scoped>\n",
       "    .dataframe tbody tr th:only-of-type {\n",
       "        vertical-align: middle;\n",
       "    }\n",
       "\n",
       "    .dataframe tbody tr th {\n",
       "        vertical-align: top;\n",
       "    }\n",
       "\n",
       "    .dataframe thead th {\n",
       "        text-align: right;\n",
       "    }\n",
       "</style>\n",
       "<table border=\"1\" class=\"dataframe\">\n",
       "  <thead>\n",
       "    <tr style=\"text-align: right;\">\n",
       "      <th></th>\n",
       "      <th>age</th>\n",
       "      <th>c_charge_degree</th>\n",
       "      <th>c_charge_desc</th>\n",
       "      <th>race</th>\n",
       "      <th>score_text</th>\n",
       "      <th>sex</th>\n",
       "      <th>priors_count</th>\n",
       "      <th>juv_fel_count</th>\n",
       "      <th>juv_misd_count</th>\n",
       "      <th>juv_other_count</th>\n",
       "      <th>...</th>\n",
       "      <th>priors_1</th>\n",
       "      <th>priors_234</th>\n",
       "      <th>priors_5plus</th>\n",
       "      <th>juv_fel_1plus</th>\n",
       "      <th>juv_misd_1plus</th>\n",
       "      <th>juv_other_1plus</th>\n",
       "      <th>charge_any_drug</th>\n",
       "      <th>charge_any_violence_aggression</th>\n",
       "      <th>charge_any_theft</th>\n",
       "      <th>length_of_stay_thresh</th>\n",
       "    </tr>\n",
       "  </thead>\n",
       "  <tbody>\n",
       "    <tr>\n",
       "      <th>0</th>\n",
       "      <td>50</td>\n",
       "      <td>M</td>\n",
       "      <td>arrest case no charge</td>\n",
       "      <td>Caucasian</td>\n",
       "      <td>Medium</td>\n",
       "      <td>0</td>\n",
       "      <td>30</td>\n",
       "      <td>0</td>\n",
       "      <td>0</td>\n",
       "      <td>0</td>\n",
       "      <td>...</td>\n",
       "      <td>0</td>\n",
       "      <td>0</td>\n",
       "      <td>1</td>\n",
       "      <td>0</td>\n",
       "      <td>0</td>\n",
       "      <td>0</td>\n",
       "      <td>0</td>\n",
       "      <td>0</td>\n",
       "      <td>0</td>\n",
       "      <td>4</td>\n",
       "    </tr>\n",
       "    <tr>\n",
       "      <th>1</th>\n",
       "      <td>28</td>\n",
       "      <td>M</td>\n",
       "      <td>Susp Drivers Lic 1st Offense</td>\n",
       "      <td>African-American</td>\n",
       "      <td>Medium</td>\n",
       "      <td>1</td>\n",
       "      <td>0</td>\n",
       "      <td>0</td>\n",
       "      <td>0</td>\n",
       "      <td>0</td>\n",
       "      <td>...</td>\n",
       "      <td>0</td>\n",
       "      <td>0</td>\n",
       "      <td>0</td>\n",
       "      <td>0</td>\n",
       "      <td>0</td>\n",
       "      <td>0</td>\n",
       "      <td>0</td>\n",
       "      <td>0</td>\n",
       "      <td>0</td>\n",
       "      <td>0</td>\n",
       "    </tr>\n",
       "    <tr>\n",
       "      <th>2</th>\n",
       "      <td>24</td>\n",
       "      <td>F</td>\n",
       "      <td>Aggravated Assault W/dead Weap</td>\n",
       "      <td>Other</td>\n",
       "      <td>Low</td>\n",
       "      <td>1</td>\n",
       "      <td>1</td>\n",
       "      <td>0</td>\n",
       "      <td>0</td>\n",
       "      <td>0</td>\n",
       "      <td>...</td>\n",
       "      <td>1</td>\n",
       "      <td>0</td>\n",
       "      <td>0</td>\n",
       "      <td>0</td>\n",
       "      <td>0</td>\n",
       "      <td>0</td>\n",
       "      <td>0</td>\n",
       "      <td>1</td>\n",
       "      <td>0</td>\n",
       "      <td>5</td>\n",
       "    </tr>\n",
       "    <tr>\n",
       "      <th>3</th>\n",
       "      <td>25</td>\n",
       "      <td>F</td>\n",
       "      <td>Burglary Unoccupied Dwelling</td>\n",
       "      <td>Hispanic</td>\n",
       "      <td>Medium</td>\n",
       "      <td>0</td>\n",
       "      <td>14</td>\n",
       "      <td>0</td>\n",
       "      <td>1</td>\n",
       "      <td>2</td>\n",
       "      <td>...</td>\n",
       "      <td>0</td>\n",
       "      <td>0</td>\n",
       "      <td>1</td>\n",
       "      <td>0</td>\n",
       "      <td>1</td>\n",
       "      <td>1</td>\n",
       "      <td>0</td>\n",
       "      <td>0</td>\n",
       "      <td>1</td>\n",
       "      <td>1</td>\n",
       "    </tr>\n",
       "    <tr>\n",
       "      <th>4</th>\n",
       "      <td>34</td>\n",
       "      <td>F</td>\n",
       "      <td>Possession of Cannabis</td>\n",
       "      <td>African-American</td>\n",
       "      <td>Medium</td>\n",
       "      <td>1</td>\n",
       "      <td>7</td>\n",
       "      <td>0</td>\n",
       "      <td>0</td>\n",
       "      <td>0</td>\n",
       "      <td>...</td>\n",
       "      <td>0</td>\n",
       "      <td>0</td>\n",
       "      <td>1</td>\n",
       "      <td>0</td>\n",
       "      <td>0</td>\n",
       "      <td>0</td>\n",
       "      <td>1</td>\n",
       "      <td>0</td>\n",
       "      <td>0</td>\n",
       "      <td>0</td>\n",
       "    </tr>\n",
       "  </tbody>\n",
       "</table>\n",
       "<p>5 rows × 23 columns</p>\n",
       "</div>"
      ],
      "text/plain": [
       "   age c_charge_degree                   c_charge_desc              race  \\\n",
       "0   50               M           arrest case no charge         Caucasian   \n",
       "1   28               M    Susp Drivers Lic 1st Offense  African-American   \n",
       "2   24               F  Aggravated Assault W/dead Weap             Other   \n",
       "3   25               F    Burglary Unoccupied Dwelling          Hispanic   \n",
       "4   34               F          Possession of Cannabis  African-American   \n",
       "\n",
       "  score_text  sex  priors_count  juv_fel_count  juv_misd_count  \\\n",
       "0     Medium    0            30              0               0   \n",
       "1     Medium    1             0              0               0   \n",
       "2        Low    1             1              0               0   \n",
       "3     Medium    0            14              0               1   \n",
       "4     Medium    1             7              0               0   \n",
       "\n",
       "   juv_other_count  ...  priors_1  priors_234  priors_5plus  juv_fel_1plus  \\\n",
       "0                0  ...         0           0             1              0   \n",
       "1                0  ...         0           0             0              0   \n",
       "2                0  ...         1           0             0              0   \n",
       "3                2  ...         0           0             1              0   \n",
       "4                0  ...         0           0             1              0   \n",
       "\n",
       "   juv_misd_1plus  juv_other_1plus  charge_any_drug  \\\n",
       "0               0                0                0   \n",
       "1               0                0                0   \n",
       "2               0                0                0   \n",
       "3               1                1                0   \n",
       "4               0                0                1   \n",
       "\n",
       "   charge_any_violence_aggression  charge_any_theft  length_of_stay_thresh  \n",
       "0                               0                 0                      4  \n",
       "1                               0                 0                      0  \n",
       "2                               1                 0                      5  \n",
       "3                               0                 1                      1  \n",
       "4                               0                 0                      0  \n",
       "\n",
       "[5 rows x 23 columns]"
      ]
     },
     "execution_count": 4,
     "metadata": {},
     "output_type": "execute_result"
    }
   ],
   "source": [
    "# Get the data\n",
    "df = pd.read_csv('compas.csv')\n",
    "\n",
    "#Splitting the races\n",
    "aa_df = df[df['race'] == 'African-American']\n",
    "cc_df = df[df['race'] == 'Caucasian']\n",
    "\n",
    "df.head()"
   ]
  },
  {
   "cell_type": "code",
   "execution_count": 5,
   "metadata": {},
   "outputs": [],
   "source": [
    "# One hot encode\n",
    "one_hot_df = pd.get_dummies(df['race'], prefix='race', drop_first = True)\n",
    "\n",
    "# columns of interest\n",
    "cols = df.select_dtypes(include=np.number).columns.tolist()\n",
    "df_race = pd.concat([df[cols], one_hot_df], axis=1)\n",
    "\n",
    "## Splitting the data\n",
    "\n",
    "data_train, data_val = train_test_split(df_race, train_size = 0.8, stratify = df['race'], random_state = 109)\n",
    "y_train, X_train = data_train.two_year_recid, data_train.drop(['two_year_recid'], axis=1)\n",
    "y_val, X_val = data_val.two_year_recid, data_val.drop(['two_year_recid'], axis=1)"
   ]
  },
  {
   "cell_type": "markdown",
   "metadata": {},
   "source": [
    "### 1.2\n",
    "<b>Can you guess why processing the categorical predictors important? What is the risk of processing categorical predictors after splitting into train and validation sets?"
   ]
  },
  {
   "cell_type": "markdown",
   "metadata": {},
   "source": [
    "We process the categorical predictors before splitting to make sure that we don't lose some categories due to the split. If this happens we might not have any encoding for a particular value the categorical variable takes."
   ]
  },
  {
   "cell_type": "markdown",
   "metadata": {},
   "source": [
    "### 1.3\n",
    "<b>\n",
    "Make overlapping distributions (histograms) of the following predictors for two groups, African American & Caucasian.\n",
    "- Age\n",
    "- Priors count\n",
    "- Sex\n",
    "- Length of stay\n"
   ]
  },
  {
   "cell_type": "code",
   "execution_count": 57,
   "metadata": {},
   "outputs": [
    {
     "data": {
      "image/png": "[encoded data removed]",
      "text/plain": [
       "<Figure size 864x432 with 4 Axes>"
      ]
     },
     "metadata": {},
     "output_type": "display_data"
    }
   ],
   "source": [
    "fig, ax = plt.subplots(nrows = 2, ncols = 2, figsize = (12,6))\n",
    "ax = ax.ravel()\n",
    "colors = ['sienna','peachpuff']\n",
    "\n",
    "for i, col in enumerate(['age', 'priors_count','sex','length_of_stay']):\n",
    "    aa = np.array(aa_df[col]).flatten() \n",
    "    cc = np.array(cc_df[col]).flatten()\n",
    "    ax[i].hist([aa,cc], label = ['African American','Caucasian'], alpha = 0.7, density = True,bins = 10,color=colors)\n",
    "    ax[i].set_xlabel(f'{col}',fontsize = 20)\n",
    "    ax[i].set_xticks([aa.min(),aa.max()])\n",
    "    ax[i].legend(fontsize = 16)\n",
    "sns.despine();\n",
    "plt.tight_layout()"
   ]
  },
  {
   "cell_type": "markdown",
   "metadata": {},
   "source": [
    "### 1.4\n",
    "<b> \n",
    "Among the following variables, which ones show disparity between the two groups? Explain your results in 2-3 sentences."
   ]
  },
  {
   "cell_type": "markdown",
   "metadata": {},
   "source": [
    "Priors count and age are the 2 variables that shows disparity. <br>\n",
    "Age: In the younger brackets, we have more of African-American and in the older age bracket, we seem to have more of Caucasian.\n",
    "Prior Count: African americans seems to have more prior counts in general according to the data."
   ]
  },
  {
   "cell_type": "markdown",
   "metadata": {},
   "source": [
    "<div class=\"alert alert-block alert-danger\" style=\"color:black;background-color:#EFF8D0\">\n",
    "   \n",
    "**Question 2: Baseline model fitting [19 points]**\n",
    "\n",
    "**2.1** [15pts] Build a logistic regression model to predict recidivism (`two_year_recid`) on these data and be sure to include race as a predictor.<br />\n",
    "**NOTE**: In your list of predictors, `race` is one of the predictors.\n",
    "\n",
    "Report the following on the **validation set**:\n",
    "1. Overall model accuracy as a percentage\n",
    "2. *False Positive Rate(FPR)* as a percentage for:\n",
    "    - `African Americans`\n",
    "    - `Cacausians`\n",
    "3. *False Negative Rate(FNR)* as a percentage for:\n",
    "    - `African Americans`\n",
    "    - `Caucasians`\n",
    "4. Ratio of the FPR between `African_Americans` and `Caucasians`\n",
    "5. Ratio of the FNR between `African_Americans` and `Caucasians`\n",
    "\n",
    "i.e $\\frac{FPR(AA)}{FPR(CC)}$ and $\\frac{FNR(AA)}{FNR(CC)}$\n",
    "\n",
    "<br  /><br />\n",
    "**2.2** [4pts] What do you observe? Is there any disparity in the $FPR$ and $FNR$ for the two groups?\n",
    "Explain your findings in 3-6 sentences.\n"
   ]
  },
  {
   "cell_type": "markdown",
   "metadata": {},
   "source": [
    "## Solutions"
   ]
  },
  {
   "cell_type": "markdown",
   "metadata": {},
   "source": [
    "### 2.1\n",
    "<b> \n",
    "Build a logistic regression model to predict recidivism (two_year_recid) on these data and be sure to include race as a predictor."
   ]
  },
  {
   "cell_type": "code",
   "execution_count": 6,
   "metadata": {},
   "outputs": [
    {
     "name": "stdout",
     "output_type": "stream",
     "text": [
      " Training set accuracy = 0.7 \n",
      " validation set accuracy = 0.68\n"
     ]
    }
   ],
   "source": [
    "logreg = LogisticRegression(C=100000, solver = 'lbfgs', max_iter = 10000)\n",
    "logreg.fit(X_train, y_train)\n",
    "\n",
    "ypred_train = logreg.predict(X_train)\n",
    "ypred_val = logreg.predict(X_val)\n",
    "\n",
    "print(f' Training set accuracy = {round(accuracy_score(y_train, ypred_train),2)} \\n validation set accuracy = {round(accuracy_score(y_val, ypred_val),2)}')"
   ]
  },
  {
   "cell_type": "code",
   "execution_count": 7,
   "metadata": {},
   "outputs": [],
   "source": [
    "# Separating the races \n",
    "X_val = X_val.reset_index(drop='True')\n",
    "\n",
    "aa_ind = np.array(X_val[(X_val['race_Asian'] == 0) & (X_val['race_Caucasian'] == 0) \n",
    "                & (X_val['race_Other'] == 0) & (X_val['race_Native American'] == 0)].index.tolist())\n",
    "\n",
    "cc_ind = np.array(X_val[X_val['race_Caucasian'] == 1].index.tolist())"
   ]
  },
  {
   "cell_type": "code",
   "execution_count": 8,
   "metadata": {},
   "outputs": [
    {
     "name": "stdout",
     "output_type": "stream",
     "text": [
      "African Americans\n",
      "[[221 104]\n",
      " [107 231]]\n",
      "Caucasians\n",
      "[[185  59]\n",
      " [ 69  65]]\n",
      "+--------------+-------------------+------------+\n",
      "|     Race     | African Americans | Caucasians |\n",
      "+--------------+-------------------+------------+\n",
      "| False +ves % |        32.0       |   24.18    |\n",
      "| False -ves % |       31.66       |   51.49    |\n",
      "+--------------+-------------------+------------+ \n",
      "\n",
      "\n",
      "African Americans 1.3x more likely to be falsely flagged compared to Caucasians\n",
      "Caucasians 1.6x more likely to be mislabeled as low risk compared to African Americans\n"
     ]
    }
   ],
   "source": [
    "aa_fplist = []\n",
    "cc_fplist = []\n",
    "print('African Americans')\n",
    "aa_cm = metrics.confusion_matrix(np.array(y_val)[aa_ind], np.array(ypred_val)[aa_ind])  \n",
    "print(aa_cm)\n",
    "\n",
    "print('Caucasians')\n",
    "cc_cm = metrics.confusion_matrix(np.array(y_val)[cc_ind], np.array(ypred_val)[cc_ind])\n",
    "print(cc_cm)\n",
    "\n",
    "fp_aa, fn_aa, fp_cc, fn_cc = round(aa_cm[0,1]/aa_cm[0].sum()*100,2),round(aa_cm[1,0]/aa_cm[1].sum()*100,2),round(cc_cm[0,1]/cc_cm[0].sum()*100,2),round(cc_cm[1,0]/cc_cm[1].sum()*100,2)\n",
    "aa_fplist.append(fp_aa)\n",
    "cc_fplist.append(fp_cc)\n",
    "x = PrettyTable()\n",
    "x.field_names = ['Race','African Americans','Caucasians']\n",
    "x.add_row(['False +ves %', fp_aa, fp_cc])\n",
    "x.add_row(['False -ves %', fn_aa, fn_cc])\n",
    "print(x,\"\\n\\n\")\n",
    "\n",
    "print(f'African Americans {fp_aa/fp_cc:0.1f}x more likely to be falsely flagged compared to Caucasians')\n",
    "\n",
    "print(f'Caucasians {fn_cc/fn_aa:0.1f}x more likely to be mislabeled as low risk compared to African Americans')"
   ]
  },
  {
   "cell_type": "markdown",
   "metadata": {},
   "source": [
    "### 2.2\n",
    "<b>\n",
    "What do you observe? Is there any disparity in the $FPR$ and $FNR$ for the two groups?\n",
    "Explain your findings in 3-6 sentences."
   ]
  },
  {
   "cell_type": "markdown",
   "metadata": {},
   "source": [
    "Yes, African-Americans are substantially more likely to be falsely labelled as positive, than Caussians <br>\n",
    "On the other hand, Caucasians are much more likely to be falsely labelled as negative, than African-Americans which compliments the first point"
   ]
  },
  {
   "cell_type": "markdown",
   "metadata": {},
   "source": [
    "<div class=\"alert alert-block alert-danger\" style=\"color:black;background-color:#EFF8D0\">\n",
    "    \n",
    "**Question 3: 'Race'less model fitting [16 points]**\n",
    " \n",
    "**3.1** [10pts] Refit the logistic model in 2.1 but this time **without** `race` as a predictor. \n",
    "Again, Report the following on the **validation set**:\n",
    "1. Overall model accuracy as a percentage\n",
    "2. **False Positive Rate(FPR)** as a percentage for:\n",
    "    - African Americans\n",
    "    - Caucasians\n",
    "2. **False Negative Rate(FNR)** as a percentage for:\n",
    "    - African Americans\n",
    "    - Caucasians\n",
    "3. \n",
    "    - Ratio of the FPR between `African_Americans` and `Caucasians`\n",
    "    - Ratio of the FNR between `African_Americans` and `Caucasians`\n",
    "\n",
    "i.e $\\frac{FPR(AA)}{FPR(CC)}$ and $\\frac{FNR(AA)}{FNR(CC)}$\n",
    "\n",
    "\n",
    "<br /><br />\n",
    "\n",
    "**3.2** [2pts] Now, without the `race` as a predictor, what do you observe? \n",
    "<br /><br />\n",
    "**3.3** [2pts] How do these compare to the model when the race **is** included as a predictor?\n",
    "<br /><br />\n",
    "**3.4** [2pts] Given your exploration and modeling of the data, should a predictive tool be trusted to be unbiased even if it doesn’t explicitly use a variable such as race to predict future crime?  Why or why not?  Why is the bias still occurring or not occurring?  Explain in 3-6 sentences total.\n"
   ]
  },
  {
   "cell_type": "markdown",
   "metadata": {},
   "source": [
    "## Solutions"
   ]
  },
  {
   "cell_type": "markdown",
   "metadata": {},
   "source": [
    "### 3.1\n",
    "<b>\n",
    "Refit the logistic model in 2.1 but this time without race as a predictor. "
   ]
  },
  {
   "cell_type": "code",
   "execution_count": 9,
   "metadata": {},
   "outputs": [],
   "source": [
    "# Not to include 'race' as a predictor \n",
    "\n",
    "data_train, data_val = train_test_split(df[cols], train_size = 0.8, stratify = df['race'], random_state=109)\n",
    "y_train, X_train = data_train.two_year_recid, data_train.drop(['two_year_recid'], axis=1)\n",
    "y_val, X_val = data_val.two_year_recid, data_val.drop(['two_year_recid'], axis=1)"
   ]
  },
  {
   "cell_type": "code",
   "execution_count": 13,
   "metadata": {},
   "outputs": [
    {
     "name": "stdout",
     "output_type": "stream",
     "text": [
      " Training set accuracy = 0.7 \n",
      " validation set accuracy = 0.68 \n",
      "\n",
      "\n",
      "African Americans\n",
      "[[221 104]\n",
      " [105 233]]\n",
      "Caucasians\n",
      "[[190  54]\n",
      " [ 71  63]]\n",
      "+--------------+-------------------+------------+\n",
      "|     Race     | African Americans | Caucasians |\n",
      "+--------------+-------------------+------------+\n",
      "| False +ves % |        32.0       |   22.13    |\n",
      "| False -ves % |       31.07       |   52.99    |\n",
      "+--------------+-------------------+------------+ \n",
      "\n",
      "\n",
      "African Americans 1.4x more likely to be falsely flagged compared to Caucasians\n",
      "Caucasians 1.7x more likely to be mislabeled as low risk compared to African Americans\n"
     ]
    }
   ],
   "source": [
    "logreg = LogisticRegression(C=100000, solver = 'lbfgs', max_iter = 10000)\n",
    "logreg.fit(X_train, y_train)\n",
    "\n",
    "ypred_train = logreg.predict(X_train)\n",
    "ypred_val = logreg.predict(X_val)\n",
    "print(f' Training set accuracy = {round(accuracy_score(y_train, ypred_train),2)} \\n validation set accuracy = {round(accuracy_score(y_val, ypred_val),2)} \\n\\n')\n",
    "print('African Americans')\n",
    "aa_cm = metrics.confusion_matrix(np.array(y_val)[aa_ind], np.array(ypred_val)[aa_ind])  \n",
    "print(aa_cm)\n",
    "print('Caucasians')\n",
    "cc_cm = metrics.confusion_matrix(np.array(y_val)[cc_ind], np.array(ypred_val)[cc_ind])\n",
    "print(cc_cm)\n",
    "\n",
    "fp_aa, fn_aa, fp_cc, fn_cc = round(aa_cm[0,1]/aa_cm[0].sum()*100,2),round(aa_cm[1,0]/aa_cm[1].sum()*100,2),round(cc_cm[0,1]/cc_cm[0].sum()*100,2),round(cc_cm[1,0]/cc_cm[1].sum()*100,2)\n",
    "aa_fplist.append(fp_aa)\n",
    "cc_fplist.append(fp_cc)\n",
    "x = PrettyTable()\n",
    "x.field_names = ['Race','African Americans','Caucasians']\n",
    "x.add_row(['False +ves %', fp_aa, fp_cc])\n",
    "x.add_row(['False -ves %', fn_aa, fn_cc])\n",
    "print(x,\"\\n\\n\")\n",
    "print(f'African Americans {fp_aa/fp_cc:0.1f}x more likely to be falsely flagged compared to Caucasians')\n",
    "print(f'Caucasians {fn_cc/fn_aa:0.1f}x more likely to be mislabeled as low risk compared to African Americans')"
   ]
  },
  {
   "cell_type": "markdown",
   "metadata": {},
   "source": [
    "### 3.2\n",
    "<b>\n",
    "Now, without the race as a predictor, what do you observe?"
   ]
  },
  {
   "cell_type": "markdown",
   "metadata": {},
   "source": [
    "We observe more or less the same results whem race is not included as a predictor. This is due to the proxy variables that are indirectly affected by race. "
   ]
  },
  {
   "cell_type": "markdown",
   "metadata": {},
   "source": [
    "### 3.3\n",
    "<b>How do these compare to the model when the race is included as a predictor?"
   ]
  },
  {
   "cell_type": "markdown",
   "metadata": {},
   "source": [
    "The results are almost the same. "
   ]
  },
  {
   "cell_type": "markdown",
   "metadata": {},
   "source": [
    "### 3.4\n",
    "<b>Given your exploration and modeling of the data, should a predictive tool be trusted to be unbiased even if it doesn’t explicitly use a variable such as race to predict future crime?  Why or why not?  Why is the bias still occurring or not occurring?  Explain in 3-6 sentences total.\n"
   ]
  },
  {
   "cell_type": "markdown",
   "metadata": {},
   "source": [
    "The bias still occurs. The disparity is an inherent property of the dataset itself and is not due to using race as a predictor."
   ]
  },
  {
   "cell_type": "markdown",
   "metadata": {},
   "source": [
    "<div class=\"alert alert-block alert-danger\" style=\"color:black;background-color:#EFF8D0\">\n",
    "    \n",
    "**Question 4: Receiver Operating Characteristic curve [10 points]**\n",
    "\n",
    "**4.1** [5pts] Use logistic regression from above and plot the *Receiver Operating Characteristic curve* for two races, `African Americans` & `Caucasians`. \n",
    "<br /><br />\n",
    "**4.2** [5pts] You will notice that changing the thresholds can *reduce* bias between the two classes, but it can also affect model accuracy. We want our model to be **accurate** but also **unbiased**. So what shall we do?\n",
    "\n",
    "- Remove bias?\n",
    "- Lose model accuracy?\n",
    "\n",
    "Write down your strategy to overcome this difficulty. Please keep your answers short (300 word limit)\n"
   ]
  },
  {
   "cell_type": "markdown",
   "metadata": {},
   "source": [
    "## Solutions"
   ]
  },
  {
   "cell_type": "markdown",
   "metadata": {},
   "source": [
    "### 4.1\n",
    "<b>\n",
    "Use logistic regression from above and plot the Receiver Operating Characteristic curve for two races, African Americans & Caucasians."
   ]
  },
  {
   "cell_type": "code",
   "execution_count": 14,
   "metadata": {},
   "outputs": [
    {
     "data": {
      "text/html": [
       "<div>\n",
       "<style scoped>\n",
       "    .dataframe tbody tr th:only-of-type {\n",
       "        vertical-align: middle;\n",
       "    }\n",
       "\n",
       "    .dataframe tbody tr th {\n",
       "        vertical-align: top;\n",
       "    }\n",
       "\n",
       "    .dataframe thead th {\n",
       "        text-align: right;\n",
       "    }\n",
       "</style>\n",
       "<table border=\"1\" class=\"dataframe\">\n",
       "  <thead>\n",
       "    <tr style=\"text-align: right;\">\n",
       "      <th></th>\n",
       "      <th>age</th>\n",
       "      <th>c_charge_degree</th>\n",
       "      <th>c_charge_desc</th>\n",
       "      <th>race</th>\n",
       "      <th>score_text</th>\n",
       "      <th>sex</th>\n",
       "      <th>priors_count</th>\n",
       "      <th>juv_fel_count</th>\n",
       "      <th>juv_misd_count</th>\n",
       "      <th>juv_other_count</th>\n",
       "      <th>...</th>\n",
       "      <th>priors_1</th>\n",
       "      <th>priors_234</th>\n",
       "      <th>priors_5plus</th>\n",
       "      <th>juv_fel_1plus</th>\n",
       "      <th>juv_misd_1plus</th>\n",
       "      <th>juv_other_1plus</th>\n",
       "      <th>charge_any_drug</th>\n",
       "      <th>charge_any_violence_aggression</th>\n",
       "      <th>charge_any_theft</th>\n",
       "      <th>length_of_stay_thresh</th>\n",
       "    </tr>\n",
       "  </thead>\n",
       "  <tbody>\n",
       "    <tr>\n",
       "      <th>0</th>\n",
       "      <td>50</td>\n",
       "      <td>M</td>\n",
       "      <td>arrest case no charge</td>\n",
       "      <td>Caucasian</td>\n",
       "      <td>Medium</td>\n",
       "      <td>0</td>\n",
       "      <td>30</td>\n",
       "      <td>0</td>\n",
       "      <td>0</td>\n",
       "      <td>0</td>\n",
       "      <td>...</td>\n",
       "      <td>0</td>\n",
       "      <td>0</td>\n",
       "      <td>1</td>\n",
       "      <td>0</td>\n",
       "      <td>0</td>\n",
       "      <td>0</td>\n",
       "      <td>0</td>\n",
       "      <td>0</td>\n",
       "      <td>0</td>\n",
       "      <td>4</td>\n",
       "    </tr>\n",
       "    <tr>\n",
       "      <th>1</th>\n",
       "      <td>28</td>\n",
       "      <td>M</td>\n",
       "      <td>Susp Drivers Lic 1st Offense</td>\n",
       "      <td>African-American</td>\n",
       "      <td>Medium</td>\n",
       "      <td>1</td>\n",
       "      <td>0</td>\n",
       "      <td>0</td>\n",
       "      <td>0</td>\n",
       "      <td>0</td>\n",
       "      <td>...</td>\n",
       "      <td>0</td>\n",
       "      <td>0</td>\n",
       "      <td>0</td>\n",
       "      <td>0</td>\n",
       "      <td>0</td>\n",
       "      <td>0</td>\n",
       "      <td>0</td>\n",
       "      <td>0</td>\n",
       "      <td>0</td>\n",
       "      <td>0</td>\n",
       "    </tr>\n",
       "    <tr>\n",
       "      <th>2</th>\n",
       "      <td>24</td>\n",
       "      <td>F</td>\n",
       "      <td>Aggravated Assault W/dead Weap</td>\n",
       "      <td>Other</td>\n",
       "      <td>Low</td>\n",
       "      <td>1</td>\n",
       "      <td>1</td>\n",
       "      <td>0</td>\n",
       "      <td>0</td>\n",
       "      <td>0</td>\n",
       "      <td>...</td>\n",
       "      <td>1</td>\n",
       "      <td>0</td>\n",
       "      <td>0</td>\n",
       "      <td>0</td>\n",
       "      <td>0</td>\n",
       "      <td>0</td>\n",
       "      <td>0</td>\n",
       "      <td>1</td>\n",
       "      <td>0</td>\n",
       "      <td>5</td>\n",
       "    </tr>\n",
       "    <tr>\n",
       "      <th>3</th>\n",
       "      <td>25</td>\n",
       "      <td>F</td>\n",
       "      <td>Burglary Unoccupied Dwelling</td>\n",
       "      <td>Hispanic</td>\n",
       "      <td>Medium</td>\n",
       "      <td>0</td>\n",
       "      <td>14</td>\n",
       "      <td>0</td>\n",
       "      <td>1</td>\n",
       "      <td>2</td>\n",
       "      <td>...</td>\n",
       "      <td>0</td>\n",
       "      <td>0</td>\n",
       "      <td>1</td>\n",
       "      <td>0</td>\n",
       "      <td>1</td>\n",
       "      <td>1</td>\n",
       "      <td>0</td>\n",
       "      <td>0</td>\n",
       "      <td>1</td>\n",
       "      <td>1</td>\n",
       "    </tr>\n",
       "    <tr>\n",
       "      <th>4</th>\n",
       "      <td>34</td>\n",
       "      <td>F</td>\n",
       "      <td>Possession of Cannabis</td>\n",
       "      <td>African-American</td>\n",
       "      <td>Medium</td>\n",
       "      <td>1</td>\n",
       "      <td>7</td>\n",
       "      <td>0</td>\n",
       "      <td>0</td>\n",
       "      <td>0</td>\n",
       "      <td>...</td>\n",
       "      <td>0</td>\n",
       "      <td>0</td>\n",
       "      <td>1</td>\n",
       "      <td>0</td>\n",
       "      <td>0</td>\n",
       "      <td>0</td>\n",
       "      <td>1</td>\n",
       "      <td>0</td>\n",
       "      <td>0</td>\n",
       "      <td>0</td>\n",
       "    </tr>\n",
       "  </tbody>\n",
       "</table>\n",
       "<p>5 rows × 23 columns</p>\n",
       "</div>"
      ],
      "text/plain": [
       "   age c_charge_degree                   c_charge_desc              race  \\\n",
       "0   50               M           arrest case no charge         Caucasian   \n",
       "1   28               M    Susp Drivers Lic 1st Offense  African-American   \n",
       "2   24               F  Aggravated Assault W/dead Weap             Other   \n",
       "3   25               F    Burglary Unoccupied Dwelling          Hispanic   \n",
       "4   34               F          Possession of Cannabis  African-American   \n",
       "\n",
       "  score_text  sex  priors_count  juv_fel_count  juv_misd_count  \\\n",
       "0     Medium    0            30              0               0   \n",
       "1     Medium    1             0              0               0   \n",
       "2        Low    1             1              0               0   \n",
       "3     Medium    0            14              0               1   \n",
       "4     Medium    1             7              0               0   \n",
       "\n",
       "   juv_other_count  ...  priors_1  priors_234  priors_5plus  juv_fel_1plus  \\\n",
       "0                0  ...         0           0             1              0   \n",
       "1                0  ...         0           0             0              0   \n",
       "2                0  ...         1           0             0              0   \n",
       "3                2  ...         0           0             1              0   \n",
       "4                0  ...         0           0             1              0   \n",
       "\n",
       "   juv_misd_1plus  juv_other_1plus  charge_any_drug  \\\n",
       "0               0                0                0   \n",
       "1               0                0                0   \n",
       "2               0                0                0   \n",
       "3               1                1                0   \n",
       "4               0                0                1   \n",
       "\n",
       "   charge_any_violence_aggression  charge_any_theft  length_of_stay_thresh  \n",
       "0                               0                 0                      4  \n",
       "1                               0                 0                      0  \n",
       "2                               1                 0                      5  \n",
       "3                               0                 1                      1  \n",
       "4                               0                 0                      0  \n",
       "\n",
       "[5 rows x 23 columns]"
      ]
     },
     "execution_count": 14,
     "metadata": {},
     "output_type": "execute_result"
    }
   ],
   "source": [
    "# Get the data\n",
    "df = pd.read_csv('compas.csv')\n",
    "\n",
    "#Splitting the races\n",
    "aa_df = df[df['race'] == 'African-American']\n",
    "cc_df = df[df['race'] == 'Caucasian']\n",
    "\n",
    "df.head()"
   ]
  },
  {
   "cell_type": "code",
   "execution_count": 15,
   "metadata": {},
   "outputs": [],
   "source": [
    "# One hot encode\n",
    "one_hot_df = pd.get_dummies(df['race'], prefix='race', drop_first = True)\n",
    "\n",
    "# columns of interest\n",
    "cols = df.select_dtypes(include=np.number).columns.tolist()\n",
    "df_race = pd.concat([df[cols], one_hot_df], axis=1)\n",
    "\n",
    "## Splitting the data\n",
    "\n",
    "data_train, data_val = train_test_split(df_race, train_size = 0.8, stratify = df['race'], random_state = 109)\n",
    "y_train, X_train = data_train.two_year_recid, data_train.drop(['two_year_recid'], axis=1)\n",
    "y_val, X_val = data_val.two_year_recid, data_val.drop(['two_year_recid'], axis=1)"
   ]
  },
  {
   "cell_type": "code",
   "execution_count": 16,
   "metadata": {},
   "outputs": [
    {
     "name": "stdout",
     "output_type": "stream",
     "text": [
      " Training set accuracy = 0.7 \n",
      " validation set accuracy = 0.68\n"
     ]
    }
   ],
   "source": [
    "logreg = LogisticRegression(C=100000, solver = 'lbfgs', max_iter = 10000)\n",
    "logreg.fit(X_train, y_train)\n",
    "\n",
    "ypred_train = logreg.predict(X_train)\n",
    "ypred_val = logreg.predict(X_val)\n",
    "\n",
    "print(f' Training set accuracy = {round(accuracy_score(y_train, ypred_train),2)} \\n validation set accuracy = {round(accuracy_score(y_val, ypred_val),2)}')"
   ]
  },
  {
   "cell_type": "code",
   "execution_count": 17,
   "metadata": {},
   "outputs": [],
   "source": [
    "# Separating the races \n",
    "X_val = X_val.reset_index(drop='True')\n",
    "\n",
    "aa_ind = np.array(X_val[(X_val['race_Asian'] == 0) & (X_val['race_Caucasian'] == 0) \n",
    "                & (X_val['race_Other'] == 0) & (X_val['race_Native American'] == 0)].index.tolist())\n",
    "\n",
    "cc_ind = np.array(X_val[X_val['race_Caucasian'] == 1].index.tolist())"
   ]
  },
  {
   "cell_type": "code",
   "execution_count": 18,
   "metadata": {},
   "outputs": [
    {
     "name": "stdout",
     "output_type": "stream",
     "text": [
      "African Americans\n",
      "[[221 104]\n",
      " [107 231]]\n",
      "Caucasians\n",
      "[[185  59]\n",
      " [ 69  65]]\n",
      "+--------------+-------------------+------------+\n",
      "|     Race     | African Americans | Caucasians |\n",
      "+--------------+-------------------+------------+\n",
      "| False +ves % |        32.0       |   24.18    |\n",
      "| False -ves % |       31.66       |   51.49    |\n",
      "+--------------+-------------------+------------+\n",
      "African Americans 1.3x more likely to be falsely flagged compared to Caucasians\n",
      "Caucasians 1.6x more likely to be mislabeled as low risk compared to African Americans\n"
     ]
    }
   ],
   "source": [
    "aa_fplist = []\n",
    "cc_fplist = []\n",
    "print('African Americans')\n",
    "aa_cm = metrics.confusion_matrix(np.array(y_val)[aa_ind], np.array(ypred_val)[aa_ind])  \n",
    "print(aa_cm)\n",
    "\n",
    "print('Caucasians')\n",
    "cc_cm = metrics.confusion_matrix(np.array(y_val)[cc_ind], np.array(ypred_val)[cc_ind])\n",
    "print(cc_cm)\n",
    "\n",
    "fp_aa, fn_aa, fp_cc, fn_cc = round(aa_cm[0,1]/aa_cm[0].sum()*100,2),round(aa_cm[1,0]/aa_cm[1].sum()*100,2),round(cc_cm[0,1]/cc_cm[0].sum()*100,2),round(cc_cm[1,0]/cc_cm[1].sum()*100,2)\n",
    "aa_fplist.append(fp_aa)\n",
    "cc_fplist.append(fp_cc)\n",
    "x = PrettyTable()\n",
    "x.field_names = ['Race','African Americans','Caucasians']\n",
    "x.add_row(['False +ves %', fp_aa, fp_cc])\n",
    "x.add_row(['False -ves %', fn_aa, fn_cc])\n",
    "print(x)\n",
    "\n",
    "print(f'African Americans {fp_aa/fp_cc:0.1f}x more likely to be falsely flagged compared to Caucasians')\n",
    "\n",
    "print(f'Caucasians {fn_cc/fn_aa:0.1f}x more likely to be mislabeled as low risk compared to African Americans')"
   ]
  },
  {
   "cell_type": "code",
   "execution_count": 21,
   "metadata": {},
   "outputs": [
    {
     "data": {
      "image/png": "[encoded data removed]",
      "text/plain": [
       "<Figure size 1008x576 with 1 Axes>"
      ]
     },
     "metadata": {},
     "output_type": "display_data"
    }
   ],
   "source": [
    "# Probabilities\n",
    "yprobs = logreg.predict_proba(X_val)[:,1]\n",
    "fpr, tpr, thresholds = roc_curve(y_val, yprobs)\n",
    "\n",
    "\n",
    "# aa_ind african americans\n",
    "# cc_ind caucasians\n",
    "\n",
    "\n",
    "aa_fpr, aa_tpr, aa_thresholds = roc_curve(y_val.values[aa_ind],yprobs[aa_ind])\n",
    "cc_fpr, cc_tpr, cc_thresholds = roc_curve(y_val.values[cc_ind],yprobs[cc_ind])\n",
    "\n",
    "fig, ax = plt.subplots(figsize=(14,8))\n",
    "ax.plot(fpr,tpr,color = 'b', label = 'Overall')\n",
    "ax.plot(aa_fpr, aa_tpr, color = 'red',label = 'African Americans')\n",
    "ax.plot(cc_fpr, cc_tpr, color = 'blue',label = 'Caucasians')\n",
    "ax.plot([0,1],[0,1],'k--')\n",
    "\n",
    "label_kwargs = {}\n",
    "label_kwargs['bbox'] = dict(boxstyle = 'round, pad = 0.5', alpha =0.4)\n",
    "\n",
    "\n",
    "n_fpr = fpr.shape[0]\n",
    "\n",
    "for k in range(0,200,50):\n",
    "    threshold = str(np.round(thresholds[k],2))\n",
    "    ax.annotate(threshold, (aa_fpr[k],aa_tpr[k]), color = 'black', **label_kwargs)\n",
    "    ax.annotate(threshold, (cc_fpr[k],cc_tpr[k]), color = 'black', **label_kwargs)\n",
    "   \n",
    "    \n",
    "# Aesthetics\n",
    "\n",
    "ax.set_xlim([0,1])\n",
    "ax.set_ylim([0,1])\n",
    "\n",
    "ax.set_xlabel('False Positive Rate')\n",
    "ax.set_ylabel('True Positive Rate')\n",
    "ax.set_title('Receiver Operating Characteristic(ROC) curve',fontsize = 20)\n",
    "ax.legend(loc='best',fontsize=20)\n",
    "sns.despine()"
   ]
  },
  {
   "cell_type": "markdown",
   "metadata": {},
   "source": [
    "### 4.2\n",
    "<b>\n",
    "How to ensure the model is accuracte and unbiased? Please keep your answers short (300 word limit)"
   ]
  },
  {
   "cell_type": "markdown",
   "metadata": {},
   "source": [
    "Choose a threshold where the bias is the least. <br>\n",
    "Do not confuse the closeness of the 2 curves with an absence of bias. To get an indication of the bias, we need to choose the same threshold and find the corresponding False Positive rate and True Positive Rate for each race."
   ]
  },
  {
   "cell_type": "markdown",
   "metadata": {},
   "source": [
    "<div class=\"alert alert-block alert-danger\" style=\"color:black;background-color:#EFF8D0\">\n",
    "<h2 style=\"color:black;background-color:#EFF8D0\"> Part C: Come up with a better model [20 points total] \n",
    "</h2>  \n",
    "    \n",
    "Improve the models you have previously coded by including:\n",
    " - Polynomial terms\n",
    " - Interaction terms\n",
    " - Regularization parameters\n",
    " - Different upsampling techniques\n",
    " - KNN classification\n",
    "\n",
    "with a goal to maximize the new metric which includes both the bias and the accuracy, we define `Bias_Corrected_Accuracy(BCA)` as:\n",
    "    \n",
    "\n",
    "$$BCA = Acccuracy - {\\left|FPR(AA) - FPR(CC)\\right|}$$\n",
    "    \n",
    " \n",
    "Please report your maximum `BCA` on the forums and add the computation code to your homework for bonus points.\n",
    "\n",
    "**Note:** The ideas given above are not exhaustive. You are free to try other betters to come up with a better model.\n",
    "\n"
   ]
  },
  {
   "cell_type": "code",
   "execution_count": 22,
   "metadata": {},
   "outputs": [],
   "source": [
    "#upsampling"
   ]
  },
  {
   "cell_type": "code",
   "execution_count": 25,
   "metadata": {},
   "outputs": [],
   "source": [
    "from imblearn import under_sampling, over_sampling\n",
    "from imblearn.over_sampling import SMOTE\n",
    "\n",
    "data_train, data_val = train_test_split(df[cols + ['race']], train_size = 0.8, stratify = df['race'], random_state=109)\n",
    "os = SMOTE(random_state= 109)\n",
    "os_data_X, os_data_y = os.fit_sample(data_train[cols],data_train['race'])\n",
    "\n",
    "# predictors and response\n",
    "\n",
    "X_train, y_train = os_data_X.drop(['two_year_recid'],axis=1), os_data_X.two_year_recid\n",
    "y_val, X_val = data_val.two_year_recid, data_val.drop(['two_year_recid', 'race'], axis=1)"
   ]
  },
  {
   "cell_type": "code",
   "execution_count": 27,
   "metadata": {},
   "outputs": [
    {
     "name": "stdout",
     "output_type": "stream",
     "text": [
      " Training set accuracy = 0.81 \n",
      " validation set accuracy = 0.67 \n",
      "\n",
      "\n",
      "African Americans\n",
      "[[257  68]\n",
      " [158 180]]\n",
      "Caucasians\n",
      "[[212  32]\n",
      " [ 90  44]]\n",
      "+--------------+-------------------+------------+\n",
      "|     Race     | African Americans | Caucasians |\n",
      "+--------------+-------------------+------------+\n",
      "| False +ves % |       20.92       |   13.11    |\n",
      "| False -ves % |       46.75       |   67.16    |\n",
      "+--------------+-------------------+------------+ \n",
      "\n",
      "\n",
      "African Americans 1.6x more likely to be falsely flagged compared to Caucasians\n",
      "Caucasians 1.4x more likely to be mislabeled as low risk compared to African Americans\n"
     ]
    }
   ],
   "source": [
    "logreg = LogisticRegression(C=100000, solver = 'lbfgs', max_iter = 10000)\n",
    "logreg.fit(X_train, y_train)\n",
    "\n",
    "ypred_train = logreg.predict(X_train)\n",
    "ypred_val = logreg.predict(X_val)\n",
    "print(f' Training set accuracy = {round(accuracy_score(y_train, ypred_train),2)} \\n validation set accuracy = {round(accuracy_score(y_val, ypred_val),2)} \\n\\n')\n",
    "print('African Americans')\n",
    "aa_cm = metrics.confusion_matrix(np.array(y_val)[aa_ind], np.array(ypred_val)[aa_ind])  \n",
    "print(aa_cm)\n",
    "print('Caucasians')\n",
    "cc_cm = metrics.confusion_matrix(np.array(y_val)[cc_ind], np.array(ypred_val)[cc_ind])\n",
    "print(cc_cm)\n",
    "\n",
    "fp_aa, fn_aa, fp_cc, fn_cc = round(aa_cm[0,1]/aa_cm[0].sum()*100,2),round(aa_cm[1,0]/aa_cm[1].sum()*100,2),round(cc_cm[0,1]/cc_cm[0].sum()*100,2),round(cc_cm[1,0]/cc_cm[1].sum()*100,2)\n",
    "aa_fplist.append(fp_aa)\n",
    "cc_fplist.append(fp_cc)\n",
    "x = PrettyTable()\n",
    "x.field_names = ['Race','African Americans','Caucasians']\n",
    "x.add_row(['False +ves %', fp_aa, fp_cc])\n",
    "x.add_row(['False -ves %', fn_aa, fn_cc])\n",
    "print(x,\"\\n\\n\")\n",
    "print(f'African Americans {fp_aa/fp_cc:0.1f}x more likely to be falsely flagged compared to Caucasians')\n",
    "print(f'Caucasians {fn_cc/fn_aa:0.1f}x more likely to be mislabeled as low risk compared to African Americans')"
   ]
  },
  {
   "cell_type": "code",
   "execution_count": 28,
   "metadata": {},
   "outputs": [
    {
     "data": {
      "image/png": "[encoded data removed]",
      "text/plain": [
       "<Figure size 1008x576 with 1 Axes>"
      ]
     },
     "metadata": {},
     "output_type": "display_data"
    }
   ],
   "source": [
    "# Probabilities\n",
    "yprobs = logreg.predict_proba(X_val)[:,1]\n",
    "fpr, tpr, thresholds = roc_curve(y_val, yprobs)\n",
    "\n",
    "\n",
    "# aa_ind african americans\n",
    "# cc_ind caucasians\n",
    "\n",
    "\n",
    "aa_fpr, aa_tpr, aa_thresholds = roc_curve(y_val.values[aa_ind],yprobs[aa_ind])\n",
    "cc_fpr, cc_tpr, cc_thresholds = roc_curve(y_val.values[cc_ind],yprobs[cc_ind])\n",
    "\n",
    "fig, ax = plt.subplots(figsize=(14,8))\n",
    "ax.plot(fpr,tpr,color = 'b', label = 'Overall')\n",
    "ax.plot(aa_fpr, aa_tpr, color = 'red',label = 'African Americans')\n",
    "ax.plot(cc_fpr, cc_tpr, color = 'blue',label = 'Caucasians')\n",
    "\n",
    "\n",
    "ax.plot([0,1],[0,1],'k--')\n",
    "\n",
    "label_kwargs = {}\n",
    "label_kwargs['bbox'] = dict(boxstyle = 'round, pad = 0.5', alpha =0.4)\n",
    "\n",
    "\n",
    "n_fpr = fpr.shape[0]\n",
    "\n",
    "for k in range(0,200,50):\n",
    "    threshold = str(np.round(thresholds[k],2))\n",
    "    ax.annotate(threshold, (aa_fpr[k],aa_tpr[k]), color = 'black', **label_kwargs)\n",
    "    ax.annotate(threshold, (cc_fpr[k],cc_tpr[k]), color = 'black', **label_kwargs)\n",
    "   \n",
    "    \n",
    "# Aesthetics\n",
    "\n",
    "ax.set_xlim([0,1])\n",
    "ax.set_ylim([0,1])\n",
    "\n",
    "ax.set_xlabel('False Positive Rate')\n",
    "ax.set_ylabel('True Positive Rate')\n",
    "ax.set_title('Receiver Operating Characteristic(ROC) curve',fontsize = 20)\n",
    "ax.legend(loc='best',fontsize=20)\n",
    "sns.despine()"
   ]
  },
  {
   "cell_type": "code",
   "execution_count": 82,
   "metadata": {},
   "outputs": [
    {
     "data": {
      "text/plain": [
       "(486,)"
      ]
     },
     "execution_count": 82,
     "metadata": {},
     "output_type": "execute_result"
    }
   ],
   "source": [
    "thresholds.shape"
   ]
  },
  {
   "cell_type": "code",
   "execution_count": 43,
   "metadata": {},
   "outputs": [],
   "source": [
    "threshdict = {}\n",
    "thresholds = np.linspace(0,1,101)\n",
    "for i in thresholds:\n",
    "    ypred_val = [1 if prob >= i else 0 for prob in yprobs]\n",
    "    aa_cm = metrics.confusion_matrix(np.array(y_val)[aa_ind], np.array(ypred_val)[aa_ind]) \n",
    "    cc_cm = metrics.confusion_matrix(np.array(y_val)[cc_ind], np.array(ypred_val)[cc_ind])\n",
    "    fp_aa, fn_aa, fp_cc, fn_cc = round(aa_cm[0,1]/aa_cm[0].sum()*100,2),round(aa_cm[1,0]/aa_cm[1].sum()*100,2),round(cc_cm[0,1]/cc_cm[0].sum()*100,2),round(cc_cm[1,0]/cc_cm[1].sum()*100,2)\n",
    "    round(accuracy_score(y_val, ypred_val),2)\n",
    "    threshdict[i] = [fp_aa,fp_cc,100*round(accuracy_score(y_val, ypred_val),2)]"
   ]
  },
  {
   "cell_type": "code",
   "execution_count": 44,
   "metadata": {},
   "outputs": [],
   "source": [
    "thresh_data = list(threshdict.values())\n",
    "thresh_fp_aa, thresh_fp_cc, thresh_acc = [i[0] for i in thresh_data],[i[1] for i in thresh_data],[i[2] for i in thresh_data]"
   ]
  },
  {
   "cell_type": "code",
   "execution_count": 45,
   "metadata": {},
   "outputs": [
    {
     "data": {
      "image/png": "[encoded data removed]",
      "text/plain": [
       "<Figure size 432x288 with 1 Axes>"
      ]
     },
     "metadata": {},
     "output_type": "display_data"
    }
   ],
   "source": [
    "fig,ax = plt.subplots()\n",
    "ax.plot(list(threshdict.keys()),thresh_fp_aa,label = 'African American')\n",
    "ax.plot(list(threshdict.keys()),thresh_fp_cc,label = 'Caucasian')\n",
    "ax.plot(list(threshdict.keys()),thresh_acc,label = 'Accuracy')\n",
    "ax.set_xlabel(\"Threshold\")\n",
    "ax.set_ylabel(\"Percentage\")\n",
    "ax.legend();"
   ]
  },
  {
   "cell_type": "code",
   "execution_count": 46,
   "metadata": {},
   "outputs": [],
   "source": [
    "def bca(acc,x,y):  \n",
    "    x=np.array(x)\n",
    "    y=np.array(y)\n",
    "    acc=np.array(acc)\n",
    "    return acc - np.absolute(x-y)"
   ]
  },
  {
   "cell_type": "code",
   "execution_count": 47,
   "metadata": {},
   "outputs": [],
   "source": [
    "bca_list=bca(thresh_acc,thresh_fp_aa,thresh_fp_cc)"
   ]
  },
  {
   "cell_type": "code",
   "execution_count": 54,
   "metadata": {},
   "outputs": [
    {
     "name": "stdout",
     "output_type": "stream",
     "text": [
      "Best threshold is 0.5700000000000001  with a BCA of 62.61\n",
      "The corresponding accuracy is  66.0 and the FPR for African Americans and Caucasians are 13.23 and 9.84  respectively.\n"
     ]
    }
   ],
   "source": [
    "bca_ind=np.argmax(bca_list)\n",
    "best_thresh=thresholds[bca_ind]\n",
    "print(\"Best threshold is\", best_thresh,\" with a BCA of\", bca_list[bca_ind])\n",
    "print(\"The corresponding accuracy is \", threshdict[best_thresh][2], \"and the FPR for African Americans and Caucasians are\", threshdict[best_thresh][0],\"and\",threshdict[best_thresh][1],\" respectively.\")"
   ]
  },
  {
   "cell_type": "code",
   "execution_count": 0,
   "metadata": {},
   "outputs": [],
   "source": []
  }
 ],
 "metadata": {
  "kernelspec": {
   "display_name": "Python 3",
   "language": "python",
   "name": "python3"
  },
  "language_info": {
   "codemirror_mode": {
    "name": "ipython",
    "version": 3
   },
   "file_extension": ".py",
   "mimetype": "text/x-python",
   "name": "python",
   "nbconvert_exporter": "python",
   "pygments_lexer": "ipython3",
   "version": "3.7.7"
  }
 },
 "nbformat": 4,
 "nbformat_minor": 4
}
